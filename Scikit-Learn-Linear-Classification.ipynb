{
 "metadata": {
  "name": "Scikit-Learn-Linear-Classification"
 },
 "nbformat": 3,
 "nbformat_minor": 0,
 "worksheets": [
  {
   "cells": [
    {
     "cell_type": "code",
     "collapsed": false,
     "input": "from sklearn.cross_validation import train_test_split\nfrom sklearn import preprocessing\nfrom sklearn import datasets",
     "language": "python",
     "metadata": {},
     "outputs": [],
     "prompt_number": 2
    },
    {
     "cell_type": "code",
     "collapsed": false,
     "input": "iris = datasets.load_iris()",
     "language": "python",
     "metadata": {},
     "outputs": [],
     "prompt_number": 3
    },
    {
     "cell_type": "code",
     "collapsed": false,
     "input": "X_iris, Y_iris = iris.data, iris.target",
     "language": "python",
     "metadata": {},
     "outputs": [],
     "prompt_number": 4
    },
    {
     "cell_type": "code",
     "collapsed": false,
     "input": "#Get Dataset with only the first two attributes\nx, y = X_iris[:,:2], Y_iris ",
     "language": "python",
     "metadata": {},
     "outputs": [],
     "prompt_number": 5
    },
    {
     "cell_type": "code",
     "collapsed": false,
     "input": "#Split the data into a training and testing set\n#Taking 25% randomly\nX_train, X_test, y_train, y_test = train_test_split(x, y, test_size=0.25, random_state=33)\nprint X_train.shape, y_train.shape",
     "language": "python",
     "metadata": {},
     "outputs": [
      {
       "output_type": "stream",
       "stream": "stdout",
       "text": "(112L, 2L) (112L,)\n"
      }
     ],
     "prompt_number": 6
    },
    {
     "cell_type": "code",
     "collapsed": false,
     "input": "#Bring all features under one scale by applying feature scaling\nscalar = preprocessing.StandardScaler().fit(X_train)",
     "language": "python",
     "metadata": {},
     "outputs": [],
     "prompt_number": 7
    },
    {
     "cell_type": "code",
     "collapsed": false,
     "input": "#Verify Mean value\nscalar.mean_",
     "language": "python",
     "metadata": {},
     "outputs": [
      {
       "metadata": {},
       "output_type": "pyout",
       "prompt_number": 8,
       "text": "array([ 5.78392857,  3.05535714])"
      }
     ],
     "prompt_number": 8
    },
    {
     "cell_type": "code",
     "collapsed": false,
     "input": "#Verify SD value\nscalar.std_",
     "language": "python",
     "metadata": {},
     "outputs": [
      {
       "metadata": {},
       "output_type": "pyout",
       "prompt_number": 9,
       "text": "array([ 0.86060128,  0.47280306])"
      }
     ],
     "prompt_number": 9
    },
    {
     "cell_type": "code",
     "collapsed": false,
     "input": "#print X_train before applying scaling\nprint X_train",
     "language": "python",
     "metadata": {},
     "outputs": [
      {
       "output_type": "stream",
       "stream": "stdout",
       "text": "[[ 5.   2.3]\n [ 4.9  3.1]\n [ 6.3  2.3]\n [ 5.8  2.6]\n [ 6.2  2.9]\n [ 4.7  3.2]\n [ 4.6  3.4]\n [ 5.1  2.5]\n [ 4.8  3.4]\n [ 7.9  3.8]\n [ 5.1  3.4]\n [ 5.1  3.7]\n [ 5.6  2.9]\n [ 6.5  3. ]\n [ 5.4  3.9]\n [ 7.   3.2]\n [ 5.8  2.8]\n [ 7.7  2.6]\n [ 5.5  2.5]\n [ 5.9  3.2]\n [ 4.9  3.1]\n [ 4.5  2.3]\n [ 6.3  2.8]\n [ 4.4  2.9]\n [ 5.   3.6]\n [ 7.2  3. ]\n [ 6.   3.4]\n [ 6.2  2.2]\n [ 7.4  2.8]\n [ 6.8  3. ]\n [ 6.4  2.8]\n [ 5.7  2.5]\n [ 5.   3.5]\n [ 5.1  3.8]\n [ 6.8  2.8]\n [ 5.2  2.7]\n [ 5.1  3.8]\n [ 5.6  2.5]\n [ 6.1  3. ]\n [ 6.6  2.9]\n [ 6.4  2.8]\n [ 4.3  3. ]\n [ 7.2  3.6]\n [ 5.1  3.5]\n [ 6.3  2.5]\n [ 4.4  3.2]\n [ 7.6  3. ]\n [ 6.4  3.2]\n [ 5.1  3.8]\n [ 6.5  3.2]\n [ 6.3  2.7]\n [ 5.   3.5]\n [ 5.2  3.4]\n [ 6.4  2.7]\n [ 5.8  4. ]\n [ 5.7  4.4]\n [ 4.6  3.2]\n [ 6.9  3.1]\n [ 6.3  2.9]\n [ 5.5  3.5]\n [ 5.7  2.6]\n [ 5.   3.3]\n [ 6.   2.2]\n [ 4.9  3. ]\n [ 5.   2. ]\n [ 6.6  3. ]\n [ 5.7  2.8]\n [ 5.5  2.6]\n [ 5.5  2.3]\n [ 4.8  3.1]\n [ 6.   2.9]\n [ 5.   3. ]\n [ 6.9  3.1]\n [ 6.7  2.5]\n [ 5.3  3.7]\n [ 5.2  4.1]\n [ 5.   3.4]\n [ 4.6  3.6]\n [ 7.7  3.8]\n [ 7.3  2.9]\n [ 4.6  3.1]\n [ 5.5  2.4]\n [ 5.8  2.7]\n [ 6.7  3.3]\n [ 5.8  2.7]\n [ 5.4  3.7]\n [ 5.   3.4]\n [ 6.   2.7]\n [ 5.7  2.8]\n [ 6.1  2.8]\n [ 5.1  3.3]\n [ 5.6  3. ]\n [ 5.4  3. ]\n [ 5.4  3.9]\n [ 6.7  3.3]\n [ 4.9  2.5]\n [ 6.2  3.4]\n [ 5.5  2.4]\n [ 7.7  2.8]\n [ 5.4  3.4]\n [ 6.7  3. ]\n [ 5.5  4.2]\n [ 5.   3.2]\n [ 4.8  3. ]\n [ 5.8  2.7]\n [ 5.9  3. ]\n [ 7.1  3. ]\n [ 4.9  2.4]\n [ 6.3  2.5]\n [ 5.6  3. ]\n [ 7.7  3. ]\n [ 5.4  3.4]]\n"
      }
     ],
     "prompt_number": 10
    },
    {
     "cell_type": "code",
     "collapsed": false,
     "input": "X_train = scalar.transform(X_train)",
     "language": "python",
     "metadata": {},
     "outputs": [],
     "prompt_number": 11
    },
    {
     "cell_type": "code",
     "collapsed": false,
     "input": "#print X_train values after applying scaling\nprint X_train",
     "language": "python",
     "metadata": {},
     "outputs": [
      {
       "output_type": "stream",
       "stream": "stdout",
       "text": "[[-0.91090798 -1.59761476]\n [-1.0271058   0.09442168]\n [ 0.59966379 -1.59761476]\n [ 0.01867465 -0.9631011 ]\n [ 0.48346596 -0.32858743]\n [-1.25950146  0.30592623]\n [-1.37569929  0.72893534]\n [-0.79471015 -1.17460565]\n [-1.14330363  0.72893534]\n [ 2.45882905  1.57495356]\n [-0.79471015  0.72893534]\n [-0.79471015  1.36344901]\n [-0.21372101 -0.32858743]\n [ 0.83205945 -0.11708288]\n [-0.44611666  1.78645812]\n [ 1.41304859  0.30592623]\n [ 0.01867465 -0.54009199]\n [ 2.22643339 -0.9631011 ]\n [-0.32991883 -1.17460565]\n [ 0.13487248  0.30592623]\n [-1.0271058   0.09442168]\n [-1.49189712 -1.59761476]\n [ 0.59966379 -0.54009199]\n [-1.60809495 -0.32858743]\n [-0.91090798  1.15194445]\n [ 1.64544425 -0.11708288]\n [ 0.25107031  0.72893534]\n [ 0.48346596 -1.80911932]\n [ 1.8778399  -0.54009199]\n [ 1.18065293 -0.11708288]\n [ 0.71586162 -0.54009199]\n [-0.09752318 -1.17460565]\n [-0.91090798  0.9404399 ]\n [-0.79471015  1.57495356]\n [ 1.18065293 -0.54009199]\n [-0.67851232 -0.75159654]\n [-0.79471015  1.57495356]\n [-0.21372101 -1.17460565]\n [ 0.36726814 -0.11708288]\n [ 0.94825728 -0.32858743]\n [ 0.71586162 -0.54009199]\n [-1.72429277 -0.11708288]\n [ 1.64544425  1.15194445]\n [-0.79471015  0.9404399 ]\n [ 0.59966379 -1.17460565]\n [-1.60809495  0.30592623]\n [ 2.11023556 -0.11708288]\n [ 0.71586162  0.30592623]\n [-0.79471015  1.57495356]\n [ 0.83205945  0.30592623]\n [ 0.59966379 -0.75159654]\n [-0.91090798  0.9404399 ]\n [-0.67851232  0.72893534]\n [ 0.71586162 -0.75159654]\n [ 0.01867465  1.99796267]\n [-0.09752318  2.84398089]\n [-1.37569929  0.30592623]\n [ 1.29685076  0.09442168]\n [ 0.59966379 -0.32858743]\n [-0.32991883  0.9404399 ]\n [-0.09752318 -0.9631011 ]\n [-0.91090798  0.51743079]\n [ 0.25107031 -1.80911932]\n [-1.0271058  -0.11708288]\n [-0.91090798 -2.23212843]\n [ 0.94825728 -0.11708288]\n [-0.09752318 -0.54009199]\n [-0.32991883 -0.9631011 ]\n [-0.32991883 -1.59761476]\n [-1.14330363  0.09442168]\n [ 0.25107031 -0.32858743]\n [-0.91090798 -0.11708288]\n [ 1.29685076  0.09442168]\n [ 1.06445511 -1.17460565]\n [-0.56231449  1.36344901]\n [-0.67851232  2.20946723]\n [-0.91090798  0.72893534]\n [-1.37569929  1.15194445]\n [ 2.22643339  1.57495356]\n [ 1.76164208 -0.32858743]\n [-1.37569929  0.09442168]\n [-0.32991883 -1.38611021]\n [ 0.01867465 -0.75159654]\n [ 1.06445511  0.51743079]\n [ 0.01867465 -0.75159654]\n [-0.44611666  1.36344901]\n [-0.91090798  0.72893534]\n [ 0.25107031 -0.75159654]\n [-0.09752318 -0.54009199]\n [ 0.36726814 -0.54009199]\n [-0.79471015  0.51743079]\n [-0.21372101 -0.11708288]\n [-0.44611666 -0.11708288]\n [-0.44611666  1.78645812]\n [ 1.06445511  0.51743079]\n [-1.0271058  -1.17460565]\n [ 0.48346596  0.72893534]\n [-0.32991883 -1.38611021]\n [ 2.22643339 -0.54009199]\n [-0.44611666  0.72893534]\n [ 1.06445511 -0.11708288]\n [-0.32991883  2.42097178]\n [-0.91090798  0.30592623]\n [-1.14330363 -0.11708288]\n [ 0.01867465 -0.75159654]\n [ 0.13487248 -0.11708288]\n [ 1.52924642 -0.11708288]\n [-1.0271058  -1.38611021]\n [ 0.59966379 -1.17460565]\n [-0.21372101 -0.11708288]\n [ 2.22643339 -0.11708288]\n [-0.44611666  0.72893534]]\n"
      }
     ],
     "prompt_number": 12
    },
    {
     "cell_type": "code",
     "collapsed": false,
     "input": "#Representing the above transformation in a graph\n%pylab inline\nimport matplotlib.pyplot as plt\ncolors = ['red', 'greenyellow', 'blue']\nfor i in xrange(len(colors)):\n    xs = X_train[:, 0][y_train == i]\n    ys = X_train[:, 1][y_train == i]\n    plt.scatter(xs, ys, c=colors[i])\nplt.legend(iris.target_names)\nplt.xlabel('Sepal length')\nplt.ylabel('Sepal width')\n",
     "language": "python",
     "metadata": {},
     "outputs": [
      {
       "output_type": "stream",
       "stream": "stdout",
       "text": "Populating the interactive namespace from numpy and matplotlib\n"
      },
      {
       "metadata": {},
       "output_type": "pyout",
       "prompt_number": 13,
       "text": "<matplotlib.text.Text at 0x11069c50>"
      },
      {
       "metadata": {},
       "output_type": "display_data",
       "png": "[encoded data removed]",
       "text": "<matplotlib.figure.Figure at 0x105d9b00>"
      }
     ],
     "prompt_number": 13
    },
    {
     "cell_type": "code",
     "collapsed": false,
     "input": "from sklearn.linear_model import SGDClassifier\nclf = SGDClassifier()\nclf.fit(X_train, y_train)",
     "language": "python",
     "metadata": {},
     "outputs": [
      {
       "metadata": {},
       "output_type": "pyout",
       "prompt_number": 14,
       "text": "SGDClassifier(alpha=0.0001, class_weight=None, epsilon=0.1, eta0=0.0,\n       fit_intercept=True, l1_ratio=0.15, learning_rate='optimal',\n       loss='hinge', n_iter=5, n_jobs=1, penalty='l2', power_t=0.5,\n       random_state=None, rho=None, shuffle=False, verbose=0,\n       warm_start=False)"
      }
     ],
     "prompt_number": 14
    },
    {
     "cell_type": "code",
     "collapsed": false,
     "input": "print clf.coef_",
     "language": "python",
     "metadata": {},
     "outputs": [
      {
       "output_type": "stream",
       "stream": "stdout",
       "text": "[[-28.56232699  15.06870628]\n [ -8.94402784  -8.14000854]\n [ 14.04159132 -12.8156682 ]]\n"
      }
     ],
     "prompt_number": 15
    },
    {
     "cell_type": "code",
     "collapsed": false,
     "input": "print clf.intercept_",
     "language": "python",
     "metadata": {},
     "outputs": [
      {
       "output_type": "stream",
       "stream": "stdout",
       "text": "[-17.62477802  -2.35658325  -9.7570213 ]\n"
      }
     ],
     "prompt_number": 16
    },
    {
     "cell_type": "code",
     "collapsed": false,
     "input": "#Now lets predict for a sepal width of 4.7 and length 3.1\nprint clf.predict(scalar.transform([[4.7, 3.1]]))",
     "language": "python",
     "metadata": {},
     "outputs": [
      {
       "output_type": "stream",
       "stream": "stdout",
       "text": "[0]\n"
      }
     ],
     "prompt_number": 17
    },
    {
     "cell_type": "code",
     "collapsed": false,
     "input": "print clf.decision_function(scalar.transform([[4.7, 3.1]]))",
     "language": "python",
     "metadata": {},
     "outputs": [
      {
       "output_type": "stream",
       "stream": "stdout",
       "text": "[[ 19.77232705   8.13983962 -28.65250296]]\n"
      }
     ],
     "prompt_number": 18
    },
    {
     "cell_type": "code",
     "collapsed": false,
     "input": "#Evaluating the results based on training set itself MAY lead to overfitting\nfrom sklearn import metrics\ny_train_pred = clf.predict(X_train)\nprint metrics.accuracy_score(y_train, y_train_pred)",
     "language": "python",
     "metadata": {},
     "outputs": [
      {
       "output_type": "stream",
       "stream": "stdout",
       "text": "0.821428571429\n"
      }
     ],
     "prompt_number": 19
    },
    {
     "cell_type": "code",
     "collapsed": false,
     "input": "y_pred = clf.predict(X_test)\nprint metrics.accuracy_score(y_test, y_pred)",
     "language": "python",
     "metadata": {},
     "outputs": [
      {
       "output_type": "stream",
       "stream": "stdout",
       "text": "0.5\n"
      }
     ],
     "prompt_number": 20
    },
    {
     "cell_type": "code",
     "collapsed": false,
     "input": "#Generating classification report to understand performance\n#Applicable for Binary classification problem\nprint metrics.classification_report(y_test, y_pred, target_names=iris.target_names)",
     "language": "python",
     "metadata": {},
     "outputs": [
      {
       "output_type": "stream",
       "stream": "stdout",
       "text": "             precision    recall  f1-score   support\n\n     setosa       0.00      0.00      0.00         8\n versicolor       0.00      0.00      0.00        11\n  virginica       0.50      1.00      0.67        19\n\navg / total       0.25      0.50      0.33        38\n\n"
      },
      {
       "output_type": "stream",
       "stream": "stderr",
       "text": "C:\\Anaconda\\lib\\site-packages\\sklearn\\metrics\\metrics.py:1905: UserWarning: The sum of true positives and false positives are equal to zero for some labels. Precision is ill defined for those labels [0 1]. The precision and recall are equal to zero for some labels. fbeta_score is ill defined for those labels [0 1]. \n  average=None)\n"
      }
     ],
     "prompt_number": 21
    },
    {
     "cell_type": "code",
     "collapsed": false,
     "input": "print metrics.confusion_matrix(y_test, y_pred)",
     "language": "python",
     "metadata": {},
     "outputs": [
      {
       "output_type": "stream",
       "stream": "stdout",
       "text": "[[ 0  0  8]\n [ 0  0 11]\n [ 0  0 19]]\n"
      }
     ],
     "prompt_number": 22
    },
    {
     "cell_type": "code",
     "collapsed": false,
     "input": "#Lets Apply Cross-validation. A technique which recommends us to form K data subsets, train on K-1 sets and helps us understand/improve the overall performance\nfrom sklearn.cross_validation import cross_val_score, KFold\nfrom sklearn.pipeline import Pipeline\nfrom sklearn import preprocessing\n#Creating composite estimator made by a pipeline of Stndardization and linear model\nclf = Pipeline([('scalar', preprocessing.StandardScaler()), ('linear_model', SGDClassifier())])\n#Lets set the K-fold to 5 (meaning forming 5 datasets)\ncv= KFold(x.shape[0], 5, shuffle=True, random_state=33)\nscores =cross_val_score(clf, x, y, cv=cv)\nprint scores",
     "language": "python",
     "metadata": {},
     "outputs": [
      {
       "output_type": "stream",
       "stream": "stdout",
       "text": "[ 0.73333333  0.63333333  0.73333333  0.66666667  0.6       ]\n"
      }
     ],
     "prompt_number": 27
    },
    {
     "cell_type": "code",
     "collapsed": false,
     "input": "#Calculate mean and the outcome determines the accuracy of our model!\nprint np.mean(scores)",
     "language": "python",
     "metadata": {},
     "outputs": [
      {
       "output_type": "stream",
       "stream": "stdout",
       "text": "0.673333333333\n"
      }
     ],
     "prompt_number": 38
    }
   ],
   "metadata": {}
  }
 ]
}